{
 "cells": [
  {
   "cell_type": "code",
   "execution_count": 2,
   "id": "fa82cabc-92e3-4a8b-81f8-189301aa29e6",
   "metadata": {},
   "outputs": [],
   "source": [
    "import pandas as pd\n",
    "import numpy as np\n",
    "import os\n",
    "import matplotlib.pyplot as plt\n",
    "import warnings\n",
    "warnings.filterwarnings(\"ignore\")"
   ]
  },
  {
   "cell_type": "code",
   "execution_count": 4,
   "id": "97601565-7ed7-41cf-97c3-1ea1ca01f076",
   "metadata": {},
   "outputs": [],
   "source": [
    "# === Load your merged metadata CSV ===\n",
    "csv_path = r\"C:\\Users\\hp\\Desktop\\THE_AI_POWERED_COUGH_ANALYZER\\labelled_tb_meged\\df_merged_tb_label.csv\" \n",
    "df_meta = pd.read_csv(csv_path)\n",
    "\n",
    "# === Clean 'filename' column to remove .wav extension ===\n",
    "df_meta['base_filename'] = df_meta['filename'].apply(lambda x: x.replace('.wav', ''))\n",
    "\n",
    "# === Load all spectrogram PNGs ===\n",
    "spectrogram_dir = r\"C:\\Users\\hp\\Desktop\\THE_AI_POWERED_COUGH_ANALYZER\\best_used\\mel_spectrograms_best\"\n",
    "all_png_files = os.listdir(spectrogram_dir)\n",
    "all_png_files = [f for f in all_png_files if f.endswith('.png')]"
   ]
  },
  {
   "cell_type": "code",
   "execution_count": null,
   "id": "8df40654-6a30-40ff-80a6-e20d644b80d5",
   "metadata": {},
   "outputs": [],
   "source": [
    "# === Build new DataFrame to hold matched images and labels ===\n",
    "matched_rows = []\n",
    "\n",
    "for png_name in all_png_files:\n",
    "    for _, row in df_meta.iterrows():\n",
    "        if png_name.startswith(row['base_filename']):\n",
    "            matched_rows.append({\n",
    "                'participant': row['participant'],\n",
    "                'filename': row['filename'],\n",
    "                'image_filename': png_name,\n",
    "                'image_path': os.path.join(spectrogram_dir, png_name),\n",
    "                'sound_prediction_score': row['sound_prediction_score'],\n",
    "                'tb_status': row['tb_status']\n",
    "            })\n",
    "\n",
    "df_final = pd.DataFrame(matched_rows)"
   ]
  },
  {
   "cell_type": "code",
   "execution_count": null,
   "id": "5a2d8ea0-8780-4050-977d-3c9edf4d16e6",
   "metadata": {},
   "outputs": [],
   "source": [
    "# === Final checks ===\n",
    "print(df_final['tb_status'].value_counts())\n",
    "print(\"Total labeled spectrograms matched:\", len(df_final))"
   ]
  },
  {
   "cell_type": "code",
   "execution_count": null,
   "id": "ed8db581-5885-4791-819e-7a157751394b",
   "metadata": {},
   "outputs": [],
   "source": []
  }
 ],
 "metadata": {
  "kernelspec": {
   "display_name": "Python 3 (ipykernel)",
   "language": "python",
   "name": "python3"
  },
  "language_info": {
   "codemirror_mode": {
    "name": "ipython",
    "version": 3
   },
   "file_extension": ".py",
   "mimetype": "text/x-python",
   "name": "python",
   "nbconvert_exporter": "python",
   "pygments_lexer": "ipython3",
   "version": "3.9.7"
  }
 },
 "nbformat": 4,
 "nbformat_minor": 5
}
