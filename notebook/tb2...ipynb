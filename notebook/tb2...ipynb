{
 "cells": [
  {
   "cell_type": "code",
   "execution_count": 1,
   "id": "0a69375d-d938-457d-8d17-1618eca22b46",
   "metadata": {},
   "outputs": [],
   "source": [
    "# ============================================\n",
    "# 1. Imports and Setup\n",
    "# ============================================\n",
    "import os\n",
    "import numpy as np\n",
    "import pandas as pd\n",
    "import matplotlib.pyplot as plt\n",
    "import seaborn as sns\n",
    "import warnings\n",
    "import joblib\n",
    "from time import time\n",
    "\n",
    "from sklearn.model_selection import train_test_split, StratifiedKFold, cross_validate, RandomizedSearchCV\n",
    "from sklearn.preprocessing import StandardScaler\n",
    "from sklearn.metrics import (\n",
    "    classification_report, confusion_matrix, ConfusionMatrixDisplay,\n",
    "    roc_auc_score, log_loss, f1_score, accuracy_score\n",
    ")\n",
    "from sklearn.linear_model import LogisticRegression\n",
    "from sklearn.ensemble import RandomForestClassifier\n",
    "from sklearn.neural_network import MLPClassifier\n",
    "from sklearn.inspection import permutation_importance\n",
    "\n",
    "from xgboost import XGBClassifier\n",
    "\n",
    "warnings.filterwarnings(\"ignore\")\n",
    "pd.set_option(\"display.max_columns\", None)\n",
    "pd.set_option(\"display.max_rows\", None)"
   ]
  },
  {
   "cell_type": "code",
   "execution_count": 2,
   "id": "1d0fd95e-45a8-404c-9916-f2696fcbf2d5",
   "metadata": {},
   "outputs": [],
   "source": [
    "# ============================================\n",
    "# 2. Load Data\n",
    "# ============================================\n",
    "df = pd.read_csv(\"balanced_tb_data.csv\")\n",
    "df_test = pd.read_csv(\"balanced_tb_data_clean.csv\")\n"
   ]
  },
  {
   "cell_type": "code",
   "execution_count": 3,
   "id": "838205b7-ce1b-44b3-a1c2-aeaa6029bbbb",
   "metadata": {},
   "outputs": [
    {
     "name": "stdout",
     "output_type": "stream",
     "text": [
      "Train shape: (9800, 783)\n",
      "Test shape : (9800, 783)\n",
      "\n",
      "Target distribution:\n",
      "tb_status\n",
      "1    4900\n",
      "0    4900\n",
      "Name: count, dtype: int64\n"
     ]
    }
   ],
   "source": [
    "df_test.replace({\"Yes\": 1, \"No\": 0, \"Not sure\": 0, \"Male\": 1, \"Female\": 0}, inplace=True)\n",
    "if \"participant\" in df_test.columns and \"sound_prediction_score\" in df_test.columns:\n",
    "    df_test.drop([\"participant\", \"sound_prediction_score\"], axis=1, inplace=True)\n",
    "\n",
    "print(\"Train shape:\", df.shape)\n",
    "print(\"Test shape :\", df_test.shape)\n",
    "print(\"\\nTarget distribution:\")\n",
    "print(df[\"tb_status\"].value_counts())\n"
   ]
  },
  {
   "cell_type": "code",
   "execution_count": 4,
   "id": "325540da-bac0-4a18-a593-d8457e4be8c1",
   "metadata": {},
   "outputs": [],
   "source": [
    "# ============================================\n",
    "# 3. Add small label noise + noise features\n",
    "# ============================================\n",
    "np.random.seed(42)\n",
    "noise_frac = 0.02\n",
    "noise_idx = df.sample(frac=noise_frac, random_state=42).index\n",
    "df.loc[noise_idx, \"tb_status\"] = 1 - df.loc[noise_idx, \"tb_status\"]\n",
    "\n",
    "for i in range(10):\n",
    "    df[f\"noise_{i}\"] = np.random.randn(len(df))\n",
    "    df_test[f\"noise_{i}\"] = np.random.randn(len(df_test))\n",
    "\n",
    "#print(f\"Added label noise ({noise_frac*100:.1f}%) and 10 random noise features.\")\n"
   ]
  },
  {
   "cell_type": "code",
   "execution_count": 5,
   "id": "49efe1e9-33b7-4da2-a506-42193b9044e3",
   "metadata": {},
   "outputs": [],
   "source": [
    "# ============================================\n",
    "# 4. Features + Split + Scaling\n",
    "# ============================================\n",
    "clinical_features = [c for c in df.columns if not c.startswith(\"feat_\") and not c.startswith(\"noise_\") and c != \"tb_status\"]\n",
    "audio_features    = [c for c in df.columns if c.startswith(\"feat_\")]\n",
    "noise_features    = [c for c in df.columns if c.startswith(\"noise_\")]\n",
    "all_features      = audio_features + clinical_features + noise_features\n",
    "\n"
   ]
  },
  {
   "cell_type": "code",
   "execution_count": 6,
   "id": "0c606f05-8265-410b-aef6-7da13c466500",
   "metadata": {},
   "outputs": [],
   "source": [
    "X = df[all_features]\n",
    "y = df[\"tb_status\"]\n",
    "\n"
   ]
  },
  {
   "cell_type": "code",
   "execution_count": 7,
   "id": "e9eba86b-5190-448b-8deb-467715b5fe17",
   "metadata": {},
   "outputs": [],
   "source": [
    "X_train, X_valid, y_train, y_valid = train_test_split(\n",
    "    X, y, test_size=0.2, stratify=y, random_state=42\n",
    ")"
   ]
  },
  {
   "cell_type": "code",
   "execution_count": 8,
   "id": "e3b8d762-1374-4c70-94cd-a8bbb62cf6f3",
   "metadata": {},
   "outputs": [],
   "source": [
    "scaler = StandardScaler()\n",
    "X_train_scaled = scaler.fit_transform(X_train)\n",
    "X_valid_scaled = scaler.transform(X_valid)\n",
    "X_test_scaled  = scaler.transform(df_test[all_features])\n"
   ]
  },
  {
   "cell_type": "code",
   "execution_count": 9,
   "id": "19f1ecc4-7ffb-47ab-acd6-f04e69a3131c",
   "metadata": {},
   "outputs": [
    {
     "name": "stdout",
     "output_type": "stream",
     "text": [
      "Train: (7840, 792) Valid: (1960, 792)\n"
     ]
    }
   ],
   "source": [
    "cv = StratifiedKFold(n_splits=5, shuffle=True, random_state=42)\n",
    "print(\"Train:\", X_train.shape, \"Valid:\", X_valid.shape)"
   ]
  },
  {
   "cell_type": "code",
   "execution_count": 10,
   "id": "b0d80e3b-dbe0-4f07-8808-8fe4e16b7fca",
   "metadata": {},
   "outputs": [
    {
     "name": "stdout",
     "output_type": "stream",
     "text": [
      "LogReg CV mean accuracy: 0.9769, mean f1: 0.9769, mean AUC: 0.9791\n"
     ]
    }
   ],
   "source": [
    "# ============================================\n",
    "# 5. Logistic Regression\n",
    "# ============================================\n",
    "logreg = LogisticRegression(max_iter=1000, C=0.5, random_state=42)\n",
    "cv_results = cross_validate(\n",
    "    logreg, X_train_scaled, y_train, cv=cv,\n",
    "    scoring=[\"accuracy\", \"f1\", \"roc_auc\"], return_estimator=False, n_jobs=1\n",
    ")\n",
    "\n",
    "print(\"LogReg CV mean accuracy: {:.4f}, mean f1: {:.4f}, mean AUC: {:.4f}\".format(\n",
    "    cv_results[\"test_accuracy\"].mean(),\n",
    "    cv_results[\"test_f1\"].mean(),\n",
    "    cv_results[\"test_roc_auc\"].mean()\n",
    "))\n",
    "\n",
    "\n"
   ]
  },
  {
   "cell_type": "code",
   "execution_count": 11,
   "id": "86e2be9d-75e5-40d3-b1df-467e2a0bd5cf",
   "metadata": {},
   "outputs": [
    {
     "name": "stdout",
     "output_type": "stream",
     "text": [
      "\n",
      "Validation Report (Logistic Regression)\n",
      "\n",
      "              precision    recall  f1-score   support\n",
      "\n",
      "           0       0.98      0.97      0.97       978\n",
      "           1       0.97      0.98      0.97       982\n",
      "\n",
      "    accuracy                           0.97      1960\n",
      "   macro avg       0.97      0.97      0.97      1960\n",
      "weighted avg       0.97      0.97      0.97      1960\n",
      "\n"
     ]
    }
   ],
   "source": [
    "logreg.fit(X_train_scaled, y_train)\n",
    "y_valid_logreg = logreg.predict(X_valid_scaled)\n",
    "y_valid_logreg_proba = logreg.predict_proba(X_valid_scaled)[:,1]\n",
    "\n",
    "print(\"\\nValidation Report (Logistic Regression)\\n\")\n",
    "print(classification_report(y_valid, y_valid_logreg))\n"
   ]
  },
  {
   "cell_type": "code",
   "execution_count": 12,
   "id": "fe865fef-ea8a-42be-a860-41a0617a8804",
   "metadata": {},
   "outputs": [
    {
     "data": {
      "image/png": "[encoded data removed]",
      "text/plain": [
       "<Figure size 640x480 with 2 Axes>"
      ]
     },
     "metadata": {},
     "output_type": "display_data"
    }
   ],
   "source": [
    "ConfusionMatrixDisplay(confusion_matrix(y_valid, y_valid_logreg)).plot(cmap=\"Blues\")\n",
    "plt.title(\"LogReg - Validation Confusion Matrix\")\n",
    "plt.show()\n",
    "\n"
   ]
  },
  {
   "cell_type": "code",
   "execution_count": 13,
   "id": "bfa424f2-3aab-446c-84ef-2def76edd587",
   "metadata": {},
   "outputs": [
    {
     "data": {
      "image/png": "[encoded data removed]",
      "text/plain": [
       "<Figure size 800x600 with 1 Axes>"
      ]
     },
     "metadata": {},
     "output_type": "display_data"
    }
   ],
   "source": [
    "coeffs = pd.Series(logreg.coef_[0], index=all_features)\n",
    "top10_logreg = coeffs.abs().sort_values(ascending=False).head(10)\n",
    "plt.figure(figsize=(8,6))\n",
    "sns.barplot(x=top10_logreg.values, y=top10_logreg.index, palette=\"viridis\")\n",
    "plt.title(\"Top 10 Features (LogReg)\")\n",
    "plt.show()"
   ]
  },
  {
   "cell_type": "code",
   "execution_count": 14,
   "id": "ba833b3c-a133-411e-9018-adc684735664",
   "metadata": {},
   "outputs": [],
   "source": [
    "# building model with random forest"
   ]
  },
  {
   "cell_type": "code",
   "execution_count": 15,
   "id": "84eee2b0-0ef6-4c13-9c19-4269e8f9ce48",
   "metadata": {},
   "outputs": [
    {
     "name": "stdout",
     "output_type": "stream",
     "text": [
      "RandomForest CV mean accuracy: 0.9723, mean f1: 0.9726, mean AUC: 0.9796\n"
     ]
    }
   ],
   "source": [
    "# ============================================\n",
    "# 6. Random Forest\n",
    "# ============================================\n",
    "rf = RandomForestClassifier(n_estimators=100, max_depth=6, class_weight=\"balanced\", random_state=42)\n",
    "cv_results = cross_validate(\n",
    "    rf, X_train_scaled, y_train, cv=cv,\n",
    "    scoring=[\"accuracy\",\"f1\",\"roc_auc\"], return_estimator=False, n_jobs=1\n",
    ")\n",
    "\n",
    "print(\"RandomForest CV mean accuracy: {:.4f}, mean f1: {:.4f}, mean AUC: {:.4f}\".format(\n",
    "    cv_results[\"test_accuracy\"].mean(),\n",
    "    cv_results[\"test_f1\"].mean(),\n",
    "    cv_results[\"test_roc_auc\"].mean()\n",
    "))\n",
    "\n"
   ]
  },
  {
   "cell_type": "code",
   "execution_count": 16,
   "id": "14102af8-0895-40ac-a1a7-66b5baabbfc3",
   "metadata": {},
   "outputs": [
    {
     "name": "stdout",
     "output_type": "stream",
     "text": [
      "\n",
      "Validation Report (Random Forest)\n",
      "\n",
      "              precision    recall  f1-score   support\n",
      "\n",
      "           0       0.98      0.96      0.97       978\n",
      "           1       0.96      0.98      0.97       982\n",
      "\n",
      "    accuracy                           0.97      1960\n",
      "   macro avg       0.97      0.97      0.97      1960\n",
      "weighted avg       0.97      0.97      0.97      1960\n",
      "\n"
     ]
    }
   ],
   "source": [
    "rf.fit(X_train_scaled, y_train)\n",
    "y_valid_rf = rf.predict(X_valid_scaled)\n",
    "y_valid_rf_proba = rf.predict_proba(X_valid_scaled)[:,1]\n",
    "\n",
    "print(\"\\nValidation Report (Random Forest)\\n\")\n",
    "print(classification_report(y_valid, y_valid_rf))"
   ]
  },
  {
   "cell_type": "code",
   "execution_count": 17,
   "id": "9eb44d8d-96af-4d2b-82ac-d48d05e2c6f0",
   "metadata": {},
   "outputs": [
    {
     "data": {
      "image/png": "[encoded data removed]",
      "text/plain": [
       "<Figure size 640x480 with 2 Axes>"
      ]
     },
     "metadata": {},
     "output_type": "display_data"
    }
   ],
   "source": [
    "ConfusionMatrixDisplay(confusion_matrix(y_valid, y_valid_rf)).plot(cmap=\"Purples\")\n",
    "plt.title(\"Random Forest - Validation Confusion Matrix\")\n",
    "plt.show()"
   ]
  },
  {
   "cell_type": "code",
   "execution_count": 18,
   "id": "6e1cc4bd-f9ba-4e51-971b-88321d49db15",
   "metadata": {},
   "outputs": [
    {
     "data": {
      "image/png": "[encoded data removed]",
      "text/plain": [
       "<Figure size 800x600 with 1 Axes>"
      ]
     },
     "metadata": {},
     "output_type": "display_data"
    }
   ],
   "source": [
    "importances_rf = pd.Series(rf.feature_importances_, index=all_features).sort_values(ascending=False).head(10)\n",
    "plt.figure(figsize=(8,6))\n",
    "sns.barplot(x=importances_rf.values, y=importances_rf.index, palette=\"crest\")\n",
    "plt.title(\"Top 10 Features (Random Forest)\")\n",
    "plt.show()"
   ]
  },
  {
   "cell_type": "code",
   "execution_count": 19,
   "id": "3861ef93-f9f6-42e8-b43e-9e12c6800951",
   "metadata": {},
   "outputs": [],
   "source": [
    "# Building model with XGBOOST"
   ]
  },
  {
   "cell_type": "code",
   "execution_count": 20,
   "id": "de16349d-9721-4d15-83b2-b19a285217b0",
   "metadata": {},
   "outputs": [],
   "source": [
    "# ============================================\n",
    "# 7. XGBoost (tuned)\n",
    "# ============================================\n",
    "xgb_base = XGBClassifier(\n",
    "    n_estimators=150, learning_rate=0.1, max_depth=4,\n",
    "    subsample=0.8, colsample_bytree=0.8,\n",
    "    eval_metric=\"logloss\", use_label_encoder=False, random_state=42\n",
    ")\n",
    "\n",
    "param_dist = {\n",
    "    \"n_estimators\": [100, 150, 200],\n",
    "    \"max_depth\": [3,4,5],\n",
    "    \"learning_rate\": [0.05, 0.1],\n",
    "    \"subsample\": [0.8, 1.0],\n",
    "    \"colsample_bytree\": [0.8, 1.0]\n",
    "}\n",
    "\n"
   ]
  },
  {
   "cell_type": "code",
   "execution_count": 21,
   "id": "f51ff3bb-dfef-4544-a5fe-331eeeeb2c5e",
   "metadata": {},
   "outputs": [],
   "source": [
    "rs = RandomizedSearchCV(\n",
    "    estimator=xgb_base, param_distributions=param_dist,\n",
    "    n_iter=5, scoring=\"f1\", cv=3, n_jobs=1, random_state=42, verbose=0\n",
    ")\n",
    "\n"
   ]
  },
  {
   "cell_type": "code",
   "execution_count": 22,
   "id": "773b6e36-fe1d-494c-9661-a13cabf2834f",
   "metadata": {},
   "outputs": [],
   "source": [
    "rs.fit(X_train_scaled, y_train)\n",
    "best_xgb = rs.best_estimator_\n",
    "\n"
   ]
  },
  {
   "cell_type": "code",
   "execution_count": 23,
   "id": "7803aec6-fe45-476d-baf0-a965a433e6e7",
   "metadata": {},
   "outputs": [],
   "source": [
    "y_valid_xgb = best_xgb.predict(X_valid_scaled)\n",
    "y_valid_xgb_proba = best_xgb.predict_proba(X_valid_scaled)[:,1]\n",
    "\n"
   ]
  },
  {
   "cell_type": "code",
   "execution_count": 24,
   "id": "ccd0f77f-10fe-40ec-91a5-be12870fadd8",
   "metadata": {},
   "outputs": [
    {
     "name": "stdout",
     "output_type": "stream",
     "text": [
      "\n",
      "Validation Report (XGBoost)\n",
      "\n",
      "              precision    recall  f1-score   support\n",
      "\n",
      "           0       0.98      0.97      0.97       978\n",
      "           1       0.97      0.98      0.98       982\n",
      "\n",
      "    accuracy                           0.97      1960\n",
      "   macro avg       0.98      0.97      0.97      1960\n",
      "weighted avg       0.98      0.97      0.97      1960\n",
      "\n"
     ]
    }
   ],
   "source": [
    "print(\"\\nValidation Report (XGBoost)\\n\")\n",
    "print(classification_report(y_valid, y_valid_xgb))\n",
    "\n"
   ]
  },
  {
   "cell_type": "code",
   "execution_count": 25,
   "id": "4f7ea897-66ed-4c5d-8db2-7d2d805e05fc",
   "metadata": {},
   "outputs": [
    {
     "data": {
      "image/png": "[encoded data removed]",
      "text/plain": [
       "<Figure size 640x480 with 2 Axes>"
      ]
     },
     "metadata": {},
     "output_type": "display_data"
    }
   ],
   "source": [
    "ConfusionMatrixDisplay(confusion_matrix(y_valid, y_valid_xgb)).plot(cmap=\"Oranges\")\n",
    "plt.title(\"XGBoost - Validation Confusion Matrix\")\n",
    "plt.show()\n",
    "\n"
   ]
  },
  {
   "cell_type": "code",
   "execution_count": 26,
   "id": "0f262b07-0d81-4f01-9034-fc671fcd942f",
   "metadata": {},
   "outputs": [
    {
     "data": {
      "image/png": "[encoded data removed]",
      "text/plain": [
       "<Figure size 800x600 with 1 Axes>"
      ]
     },
     "metadata": {},
     "output_type": "display_data"
    }
   ],
   "source": [
    "xgb_imp = pd.Series(best_xgb.feature_importances_, index=all_features).sort_values(ascending=False).head(10)\n",
    "plt.figure(figsize=(8,6))\n",
    "sns.barplot(x=xgb_imp.values, y=xgb_imp.index, palette=\"magma\")\n",
    "plt.title(\"Top 10 Features (XGBoost)\")\n",
    "plt.show()"
   ]
  },
  {
   "cell_type": "code",
   "execution_count": 27,
   "id": "7ebc8647-911c-4d80-a2c5-0e02b110a172",
   "metadata": {},
   "outputs": [],
   "source": [
    "#building model with MLP"
   ]
  },
  {
   "cell_type": "code",
   "execution_count": 28,
   "id": "22d2b110-6cda-40d8-8edf-c3f525c940c6",
   "metadata": {},
   "outputs": [
    {
     "data": {
      "text/html": [
       "<style>#sk-container-id-1 {\n",
       "  /* Definition of color scheme common for light and dark mode */\n",
       "  --sklearn-color-text: #000;\n",
       "  --sklearn-color-text-muted: #666;\n",
       "  --sklearn-color-line: gray;\n",
       "  /* Definition of color scheme for unfitted estimators */\n",
       "  --sklearn-color-unfitted-level-0: #fff5e6;\n",
       "  --sklearn-color-unfitted-level-1: #f6e4d2;\n",
       "  --sklearn-color-unfitted-level-2: #ffe0b3;\n",
       "  --sklearn-color-unfitted-level-3: chocolate;\n",
       "  /* Definition of color scheme for fitted estimators */\n",
       "  --sklearn-color-fitted-level-0: #f0f8ff;\n",
       "  --sklearn-color-fitted-level-1: #d4ebff;\n",
       "  --sklearn-color-fitted-level-2: #b3dbfd;\n",
       "  --sklearn-color-fitted-level-3: cornflowerblue;\n",
       "\n",
       "  /* Specific color for light theme */\n",
       "  --sklearn-color-text-on-default-background: var(--sg-text-color, var(--theme-code-foreground, var(--jp-content-font-color1, black)));\n",
       "  --sklearn-color-background: var(--sg-background-color, var(--theme-background, var(--jp-layout-color0, white)));\n",
       "  --sklearn-color-border-box: var(--sg-text-color, var(--theme-code-foreground, var(--jp-content-font-color1, black)));\n",
       "  --sklearn-color-icon: #696969;\n",
       "\n",
       "  @media (prefers-color-scheme: dark) {\n",
       "    /* Redefinition of color scheme for dark theme */\n",
       "    --sklearn-color-text-on-default-background: var(--sg-text-color, var(--theme-code-foreground, var(--jp-content-font-color1, white)));\n",
       "    --sklearn-color-background: var(--sg-background-color, var(--theme-background, var(--jp-layout-color0, #111)));\n",
       "    --sklearn-color-border-box: var(--sg-text-color, var(--theme-code-foreground, var(--jp-content-font-color1, white)));\n",
       "    --sklearn-color-icon: #878787;\n",
       "  }\n",
       "}\n",
       "\n",
       "#sk-container-id-1 {\n",
       "  color: var(--sklearn-color-text);\n",
       "}\n",
       "\n",
       "#sk-container-id-1 pre {\n",
       "  padding: 0;\n",
       "}\n",
       "\n",
       "#sk-container-id-1 input.sk-hidden--visually {\n",
       "  border: 0;\n",
       "  clip: rect(1px 1px 1px 1px);\n",
       "  clip: rect(1px, 1px, 1px, 1px);\n",
       "  height: 1px;\n",
       "  margin: -1px;\n",
       "  overflow: hidden;\n",
       "  padding: 0;\n",
       "  position: absolute;\n",
       "  width: 1px;\n",
       "}\n",
       "\n",
       "#sk-container-id-1 div.sk-dashed-wrapped {\n",
       "  border: 1px dashed var(--sklearn-color-line);\n",
       "  margin: 0 0.4em 0.5em 0.4em;\n",
       "  box-sizing: border-box;\n",
       "  padding-bottom: 0.4em;\n",
       "  background-color: var(--sklearn-color-background);\n",
       "}\n",
       "\n",
       "#sk-container-id-1 div.sk-container {\n",
       "  /* jupyter's `normalize.less` sets `[hidden] { display: none; }`\n",
       "     but bootstrap.min.css set `[hidden] { display: none !important; }`\n",
       "     so we also need the `!important` here to be able to override the\n",
       "     default hidden behavior on the sphinx rendered scikit-learn.org.\n",
       "     See: https://github.com/scikit-learn/scikit-learn/issues/21755 */\n",
       "  display: inline-block !important;\n",
       "  position: relative;\n",
       "}\n",
       "\n",
       "#sk-container-id-1 div.sk-text-repr-fallback {\n",
       "  display: none;\n",
       "}\n",
       "\n",
       "div.sk-parallel-item,\n",
       "div.sk-serial,\n",
       "div.sk-item {\n",
       "  /* draw centered vertical line to link estimators */\n",
       "  background-image: linear-gradient(var(--sklearn-color-text-on-default-background), var(--sklearn-color-text-on-default-background));\n",
       "  background-size: 2px 100%;\n",
       "  background-repeat: no-repeat;\n",
       "  background-position: center center;\n",
       "}\n",
       "\n",
       "/* Parallel-specific style estimator block */\n",
       "\n",
       "#sk-container-id-1 div.sk-parallel-item::after {\n",
       "  content: \"\";\n",
       "  width: 100%;\n",
       "  border-bottom: 2px solid var(--sklearn-color-text-on-default-background);\n",
       "  flex-grow: 1;\n",
       "}\n",
       "\n",
       "#sk-container-id-1 div.sk-parallel {\n",
       "  display: flex;\n",
       "  align-items: stretch;\n",
       "  justify-content: center;\n",
       "  background-color: var(--sklearn-color-background);\n",
       "  position: relative;\n",
       "}\n",
       "\n",
       "#sk-container-id-1 div.sk-parallel-item {\n",
       "  display: flex;\n",
       "  flex-direction: column;\n",
       "}\n",
       "\n",
       "#sk-container-id-1 div.sk-parallel-item:first-child::after {\n",
       "  align-self: flex-end;\n",
       "  width: 50%;\n",
       "}\n",
       "\n",
       "#sk-container-id-1 div.sk-parallel-item:last-child::after {\n",
       "  align-self: flex-start;\n",
       "  width: 50%;\n",
       "}\n",
       "\n",
       "#sk-container-id-1 div.sk-parallel-item:only-child::after {\n",
       "  width: 0;\n",
       "}\n",
       "\n",
       "/* Serial-specific style estimator block */\n",
       "\n",
       "#sk-container-id-1 div.sk-serial {\n",
       "  display: flex;\n",
       "  flex-direction: column;\n",
       "  align-items: center;\n",
       "  background-color: var(--sklearn-color-background);\n",
       "  padding-right: 1em;\n",
       "  padding-left: 1em;\n",
       "}\n",
       "\n",
       "\n",
       "/* Toggleable style: style used for estimator/Pipeline/ColumnTransformer box that is\n",
       "clickable and can be expanded/collapsed.\n",
       "- Pipeline and ColumnTransformer use this feature and define the default style\n",
       "- Estimators will overwrite some part of the style using the `sk-estimator` class\n",
       "*/\n",
       "\n",
       "/* Pipeline and ColumnTransformer style (default) */\n",
       "\n",
       "#sk-container-id-1 div.sk-toggleable {\n",
       "  /* Default theme specific background. It is overwritten whether we have a\n",
       "  specific estimator or a Pipeline/ColumnTransformer */\n",
       "  background-color: var(--sklearn-color-background);\n",
       "}\n",
       "\n",
       "/* Toggleable label */\n",
       "#sk-container-id-1 label.sk-toggleable__label {\n",
       "  cursor: pointer;\n",
       "  display: flex;\n",
       "  width: 100%;\n",
       "  margin-bottom: 0;\n",
       "  padding: 0.5em;\n",
       "  box-sizing: border-box;\n",
       "  text-align: center;\n",
       "  align-items: start;\n",
       "  justify-content: space-between;\n",
       "  gap: 0.5em;\n",
       "}\n",
       "\n",
       "#sk-container-id-1 label.sk-toggleable__label .caption {\n",
       "  font-size: 0.6rem;\n",
       "  font-weight: lighter;\n",
       "  color: var(--sklearn-color-text-muted);\n",
       "}\n",
       "\n",
       "#sk-container-id-1 label.sk-toggleable__label-arrow:before {\n",
       "  /* Arrow on the left of the label */\n",
       "  content: \"▸\";\n",
       "  float: left;\n",
       "  margin-right: 0.25em;\n",
       "  color: var(--sklearn-color-icon);\n",
       "}\n",
       "\n",
       "#sk-container-id-1 label.sk-toggleable__label-arrow:hover:before {\n",
       "  color: var(--sklearn-color-text);\n",
       "}\n",
       "\n",
       "/* Toggleable content - dropdown */\n",
       "\n",
       "#sk-container-id-1 div.sk-toggleable__content {\n",
       "  max-height: 0;\n",
       "  max-width: 0;\n",
       "  overflow: hidden;\n",
       "  text-align: left;\n",
       "  /* unfitted */\n",
       "  background-color: var(--sklearn-color-unfitted-level-0);\n",
       "}\n",
       "\n",
       "#sk-container-id-1 div.sk-toggleable__content.fitted {\n",
       "  /* fitted */\n",
       "  background-color: var(--sklearn-color-fitted-level-0);\n",
       "}\n",
       "\n",
       "#sk-container-id-1 div.sk-toggleable__content pre {\n",
       "  margin: 0.2em;\n",
       "  border-radius: 0.25em;\n",
       "  color: var(--sklearn-color-text);\n",
       "  /* unfitted */\n",
       "  background-color: var(--sklearn-color-unfitted-level-0);\n",
       "}\n",
       "\n",
       "#sk-container-id-1 div.sk-toggleable__content.fitted pre {\n",
       "  /* unfitted */\n",
       "  background-color: var(--sklearn-color-fitted-level-0);\n",
       "}\n",
       "\n",
       "#sk-container-id-1 input.sk-toggleable__control:checked~div.sk-toggleable__content {\n",
       "  /* Expand drop-down */\n",
       "  max-height: 200px;\n",
       "  max-width: 100%;\n",
       "  overflow: auto;\n",
       "}\n",
       "\n",
       "#sk-container-id-1 input.sk-toggleable__control:checked~label.sk-toggleable__label-arrow:before {\n",
       "  content: \"▾\";\n",
       "}\n",
       "\n",
       "/* Pipeline/ColumnTransformer-specific style */\n",
       "\n",
       "#sk-container-id-1 div.sk-label input.sk-toggleable__control:checked~label.sk-toggleable__label {\n",
       "  color: var(--sklearn-color-text);\n",
       "  background-color: var(--sklearn-color-unfitted-level-2);\n",
       "}\n",
       "\n",
       "#sk-container-id-1 div.sk-label.fitted input.sk-toggleable__control:checked~label.sk-toggleable__label {\n",
       "  background-color: var(--sklearn-color-fitted-level-2);\n",
       "}\n",
       "\n",
       "/* Estimator-specific style */\n",
       "\n",
       "/* Colorize estimator box */\n",
       "#sk-container-id-1 div.sk-estimator input.sk-toggleable__control:checked~label.sk-toggleable__label {\n",
       "  /* unfitted */\n",
       "  background-color: var(--sklearn-color-unfitted-level-2);\n",
       "}\n",
       "\n",
       "#sk-container-id-1 div.sk-estimator.fitted input.sk-toggleable__control:checked~label.sk-toggleable__label {\n",
       "  /* fitted */\n",
       "  background-color: var(--sklearn-color-fitted-level-2);\n",
       "}\n",
       "\n",
       "#sk-container-id-1 div.sk-label label.sk-toggleable__label,\n",
       "#sk-container-id-1 div.sk-label label {\n",
       "  /* The background is the default theme color */\n",
       "  color: var(--sklearn-color-text-on-default-background);\n",
       "}\n",
       "\n",
       "/* On hover, darken the color of the background */\n",
       "#sk-container-id-1 div.sk-label:hover label.sk-toggleable__label {\n",
       "  color: var(--sklearn-color-text);\n",
       "  background-color: var(--sklearn-color-unfitted-level-2);\n",
       "}\n",
       "\n",
       "/* Label box, darken color on hover, fitted */\n",
       "#sk-container-id-1 div.sk-label.fitted:hover label.sk-toggleable__label.fitted {\n",
       "  color: var(--sklearn-color-text);\n",
       "  background-color: var(--sklearn-color-fitted-level-2);\n",
       "}\n",
       "\n",
       "/* Estimator label */\n",
       "\n",
       "#sk-container-id-1 div.sk-label label {\n",
       "  font-family: monospace;\n",
       "  font-weight: bold;\n",
       "  display: inline-block;\n",
       "  line-height: 1.2em;\n",
       "}\n",
       "\n",
       "#sk-container-id-1 div.sk-label-container {\n",
       "  text-align: center;\n",
       "}\n",
       "\n",
       "/* Estimator-specific */\n",
       "#sk-container-id-1 div.sk-estimator {\n",
       "  font-family: monospace;\n",
       "  border: 1px dotted var(--sklearn-color-border-box);\n",
       "  border-radius: 0.25em;\n",
       "  box-sizing: border-box;\n",
       "  margin-bottom: 0.5em;\n",
       "  /* unfitted */\n",
       "  background-color: var(--sklearn-color-unfitted-level-0);\n",
       "}\n",
       "\n",
       "#sk-container-id-1 div.sk-estimator.fitted {\n",
       "  /* fitted */\n",
       "  background-color: var(--sklearn-color-fitted-level-0);\n",
       "}\n",
       "\n",
       "/* on hover */\n",
       "#sk-container-id-1 div.sk-estimator:hover {\n",
       "  /* unfitted */\n",
       "  background-color: var(--sklearn-color-unfitted-level-2);\n",
       "}\n",
       "\n",
       "#sk-container-id-1 div.sk-estimator.fitted:hover {\n",
       "  /* fitted */\n",
       "  background-color: var(--sklearn-color-fitted-level-2);\n",
       "}\n",
       "\n",
       "/* Specification for estimator info (e.g. \"i\" and \"?\") */\n",
       "\n",
       "/* Common style for \"i\" and \"?\" */\n",
       "\n",
       ".sk-estimator-doc-link,\n",
       "a:link.sk-estimator-doc-link,\n",
       "a:visited.sk-estimator-doc-link {\n",
       "  float: right;\n",
       "  font-size: smaller;\n",
       "  line-height: 1em;\n",
       "  font-family: monospace;\n",
       "  background-color: var(--sklearn-color-background);\n",
       "  border-radius: 1em;\n",
       "  height: 1em;\n",
       "  width: 1em;\n",
       "  text-decoration: none !important;\n",
       "  margin-left: 0.5em;\n",
       "  text-align: center;\n",
       "  /* unfitted */\n",
       "  border: var(--sklearn-color-unfitted-level-1) 1pt solid;\n",
       "  color: var(--sklearn-color-unfitted-level-1);\n",
       "}\n",
       "\n",
       ".sk-estimator-doc-link.fitted,\n",
       "a:link.sk-estimator-doc-link.fitted,\n",
       "a:visited.sk-estimator-doc-link.fitted {\n",
       "  /* fitted */\n",
       "  border: var(--sklearn-color-fitted-level-1) 1pt solid;\n",
       "  color: var(--sklearn-color-fitted-level-1);\n",
       "}\n",
       "\n",
       "/* On hover */\n",
       "div.sk-estimator:hover .sk-estimator-doc-link:hover,\n",
       ".sk-estimator-doc-link:hover,\n",
       "div.sk-label-container:hover .sk-estimator-doc-link:hover,\n",
       ".sk-estimator-doc-link:hover {\n",
       "  /* unfitted */\n",
       "  background-color: var(--sklearn-color-unfitted-level-3);\n",
       "  color: var(--sklearn-color-background);\n",
       "  text-decoration: none;\n",
       "}\n",
       "\n",
       "div.sk-estimator.fitted:hover .sk-estimator-doc-link.fitted:hover,\n",
       ".sk-estimator-doc-link.fitted:hover,\n",
       "div.sk-label-container:hover .sk-estimator-doc-link.fitted:hover,\n",
       ".sk-estimator-doc-link.fitted:hover {\n",
       "  /* fitted */\n",
       "  background-color: var(--sklearn-color-fitted-level-3);\n",
       "  color: var(--sklearn-color-background);\n",
       "  text-decoration: none;\n",
       "}\n",
       "\n",
       "/* Span, style for the box shown on hovering the info icon */\n",
       ".sk-estimator-doc-link span {\n",
       "  display: none;\n",
       "  z-index: 9999;\n",
       "  position: relative;\n",
       "  font-weight: normal;\n",
       "  right: .2ex;\n",
       "  padding: .5ex;\n",
       "  margin: .5ex;\n",
       "  width: min-content;\n",
       "  min-width: 20ex;\n",
       "  max-width: 50ex;\n",
       "  color: var(--sklearn-color-text);\n",
       "  box-shadow: 2pt 2pt 4pt #999;\n",
       "  /* unfitted */\n",
       "  background: var(--sklearn-color-unfitted-level-0);\n",
       "  border: .5pt solid var(--sklearn-color-unfitted-level-3);\n",
       "}\n",
       "\n",
       ".sk-estimator-doc-link.fitted span {\n",
       "  /* fitted */\n",
       "  background: var(--sklearn-color-fitted-level-0);\n",
       "  border: var(--sklearn-color-fitted-level-3);\n",
       "}\n",
       "\n",
       ".sk-estimator-doc-link:hover span {\n",
       "  display: block;\n",
       "}\n",
       "\n",
       "/* \"?\"-specific style due to the `<a>` HTML tag */\n",
       "\n",
       "#sk-container-id-1 a.estimator_doc_link {\n",
       "  float: right;\n",
       "  font-size: 1rem;\n",
       "  line-height: 1em;\n",
       "  font-family: monospace;\n",
       "  background-color: var(--sklearn-color-background);\n",
       "  border-radius: 1rem;\n",
       "  height: 1rem;\n",
       "  width: 1rem;\n",
       "  text-decoration: none;\n",
       "  /* unfitted */\n",
       "  color: var(--sklearn-color-unfitted-level-1);\n",
       "  border: var(--sklearn-color-unfitted-level-1) 1pt solid;\n",
       "}\n",
       "\n",
       "#sk-container-id-1 a.estimator_doc_link.fitted {\n",
       "  /* fitted */\n",
       "  border: var(--sklearn-color-fitted-level-1) 1pt solid;\n",
       "  color: var(--sklearn-color-fitted-level-1);\n",
       "}\n",
       "\n",
       "/* On hover */\n",
       "#sk-container-id-1 a.estimator_doc_link:hover {\n",
       "  /* unfitted */\n",
       "  background-color: var(--sklearn-color-unfitted-level-3);\n",
       "  color: var(--sklearn-color-background);\n",
       "  text-decoration: none;\n",
       "}\n",
       "\n",
       "#sk-container-id-1 a.estimator_doc_link.fitted:hover {\n",
       "  /* fitted */\n",
       "  background-color: var(--sklearn-color-fitted-level-3);\n",
       "}\n",
       "</style><div id=\"sk-container-id-1\" class=\"sk-top-container\"><div class=\"sk-text-repr-fallback\"><pre>MLPClassifier(alpha=0.001, hidden_layer_sizes=(64, 32), max_iter=500,\n",
       "              random_state=42)</pre><b>In a Jupyter environment, please rerun this cell to show the HTML representation or trust the notebook. <br />On GitHub, the HTML representation is unable to render, please try loading this page with nbviewer.org.</b></div><div class=\"sk-container\" hidden><div class=\"sk-item\"><div class=\"sk-estimator fitted sk-toggleable\"><input class=\"sk-toggleable__control sk-hidden--visually\" id=\"sk-estimator-id-1\" type=\"checkbox\" checked><label for=\"sk-estimator-id-1\" class=\"sk-toggleable__label fitted sk-toggleable__label-arrow\"><div><div>MLPClassifier</div></div><div><a class=\"sk-estimator-doc-link fitted\" rel=\"noreferrer\" target=\"_blank\" href=\"https://scikit-learn.org/1.6/modules/generated/sklearn.neural_network.MLPClassifier.html\">?<span>Documentation for MLPClassifier</span></a><span class=\"sk-estimator-doc-link fitted\">i<span>Fitted</span></span></div></label><div class=\"sk-toggleable__content fitted\"><pre>MLPClassifier(alpha=0.001, hidden_layer_sizes=(64, 32), max_iter=500,\n",
       "              random_state=42)</pre></div> </div></div></div></div>"
      ],
      "text/plain": [
       "MLPClassifier(alpha=0.001, hidden_layer_sizes=(64, 32), max_iter=500,\n",
       "              random_state=42)"
      ]
     },
     "execution_count": 28,
     "metadata": {},
     "output_type": "execute_result"
    }
   ],
   "source": [
    "# ============================================\n",
    "# 8. MLP\n",
    "# ============================================\n",
    "mlp = MLPClassifier(hidden_layer_sizes=(64,32), alpha=0.001, max_iter=500, random_state=42)\n",
    "mlp.fit(X_train_scaled, y_train)\n",
    "\n"
   ]
  },
  {
   "cell_type": "code",
   "execution_count": 29,
   "id": "10b4b51d-0bc8-4adb-8934-a5bad31c75aa",
   "metadata": {},
   "outputs": [
    {
     "name": "stdout",
     "output_type": "stream",
     "text": [
      "\n",
      "Validation Report (MLP)\n",
      "\n",
      "              precision    recall  f1-score   support\n",
      "\n",
      "           0       0.96      0.97      0.97       978\n",
      "           1       0.97      0.96      0.97       982\n",
      "\n",
      "    accuracy                           0.97      1960\n",
      "   macro avg       0.97      0.97      0.97      1960\n",
      "weighted avg       0.97      0.97      0.97      1960\n",
      "\n"
     ]
    }
   ],
   "source": [
    "y_valid_mlp = mlp.predict(X_valid_scaled)\n",
    "y_valid_mlp_proba = mlp.predict_proba(X_valid_scaled)[:,1]\n",
    "\n",
    "print(\"\\nValidation Report (MLP)\\n\")\n",
    "print(classification_report(y_valid, y_valid_mlp))"
   ]
  },
  {
   "cell_type": "code",
   "execution_count": 30,
   "id": "dafd81d6-37a4-4b05-8409-917a3aea9ebb",
   "metadata": {},
   "outputs": [
    {
     "data": {
      "image/png": "[encoded data removed]",
      "text/plain": [
       "<Figure size 640x480 with 2 Axes>"
      ]
     },
     "metadata": {},
     "output_type": "display_data"
    }
   ],
   "source": [
    "ConfusionMatrixDisplay(confusion_matrix(y_valid, y_valid_mlp)).plot(cmap=\"Greens\")\n",
    "plt.title(\"MLP - Validation Confusion Matrix\")\n",
    "plt.show()\n",
    "\n"
   ]
  },
  {
   "cell_type": "code",
   "execution_count": 31,
   "id": "55ace0b8-ba57-4a46-9fb7-bcf6396bf76f",
   "metadata": {},
   "outputs": [
    {
     "data": {
      "image/png": "[encoded data removed]",
      "text/plain": [
       "<Figure size 800x600 with 1 Axes>"
      ]
     },
     "metadata": {},
     "output_type": "display_data"
    }
   ],
   "source": [
    "pi = permutation_importance(mlp, X_valid_scaled, y_valid, n_repeats=5, random_state=42, n_jobs=1)\n",
    "pi_ser = pd.Series(pi.importances_mean, index=all_features).sort_values(ascending=False).head(10)\n",
    "plt.figure(figsize=(8,6))\n",
    "sns.barplot(x=pi_ser.values, y=pi_ser.index, palette=\"cubehelix\")\n",
    "plt.title(\"Top 10 Permutation Importances (MLP)\")\n",
    "plt.show()\n"
   ]
  },
  {
   "cell_type": "code",
   "execution_count": 32,
   "id": "2e527ac1-9fd6-4da4-9a62-0839c961ba72",
   "metadata": {},
   "outputs": [],
   "source": [
    "# ============================================\n",
    "# 9. Validation-set metrics & model selection\n",
    "# ============================================\n",
    "models = {\n",
    "    \"LogisticRegression\": {\"model\": logreg, \"y_pred\": y_valid_logreg, \"y_proba\": y_valid_logreg_proba},\n",
    "    \"RandomForest\": {\"model\": rf, \"y_pred\": y_valid_rf, \"y_proba\": y_valid_rf_proba},\n",
    "    \"XGBoost\": {\"model\": best_xgb, \"y_pred\": y_valid_xgb, \"y_proba\": y_valid_xgb_proba},\n",
    "    \"MLP\": {\"model\": mlp, \"y_pred\": y_valid_mlp, \"y_proba\": y_valid_mlp_proba}\n",
    "}\n"
   ]
  },
  {
   "cell_type": "code",
   "execution_count": 33,
   "id": "12291dab-6ef1-4b4c-91d1-fc090477f008",
   "metadata": {},
   "outputs": [
    {
     "name": "stdout",
     "output_type": "stream",
     "text": [
      "LogisticRegression -> F1:0.973, Acc:0.973, AUC:0.974, LogLoss:0.142\n",
      "RandomForest -> F1:0.968, Acc:0.968, AUC:0.979, LogLoss:0.130\n",
      "XGBoost -> F1:0.975, Acc:0.975, AUC:0.976, LogLoss:0.119\n",
      "MLP -> F1:0.967, Acc:0.967, AUC:0.970, LogLoss:0.263\n"
     ]
    }
   ],
   "source": [
    "selection_scores = {}\n",
    "for name, info in models.items():\n",
    "    y_pred = info[\"y_pred\"]\n",
    "    y_proba = info[\"y_proba\"]\n",
    "    f1 = f1_score(y_valid, y_pred, average=\"weighted\")\n",
    "    acc = accuracy_score(y_valid, y_pred)\n",
    "    auc = roc_auc_score(y_valid, y_proba)\n",
    "    ll  = log_loss(y_valid, y_proba)\n",
    "    selection_scores[name] = {\"f1\":f1, \"accuracy\":acc, \"auc\":auc, \"logloss\":ll}\n",
    "    print(f\"{name} -> F1:{f1:.3f}, Acc:{acc:.3f}, AUC:{auc:.3f}, LogLoss:{ll:.3f}\")\n"
   ]
  },
  {
   "cell_type": "code",
   "execution_count": 34,
   "id": "64eac8de-1f14-4528-9ba1-83a67d7095bb",
   "metadata": {},
   "outputs": [],
   "source": [
    "# saving the best model"
   ]
  },
  {
   "cell_type": "code",
   "execution_count": 35,
   "id": "fda64957-6c0e-4106-915d-fcaefbf3dbdf",
   "metadata": {},
   "outputs": [
    {
     "name": "stdout",
     "output_type": "stream",
     "text": [
      "\n",
      "Final weighted scores:\n",
      "{'LogisticRegression': np.float64(1.0566721914894586), 'RandomForest': np.float64(1.055297629694624), 'XGBoost': np.float64(1.0610063552284326), 'MLP': np.float64(1.038586740253273)}\n",
      "\n",
      " Best model: XGBoost\n"
     ]
    }
   ],
   "source": [
    "# ============================================\n",
    "# 10. Pick best model & save\n",
    "# ============================================\n",
    "weights = {\"f1\":0.4, \"accuracy\":0.4, \"auc\":0.3, \"logloss\":0.1}\n",
    "final_scores = {\n",
    "    m: weights[\"f1\"]*sc[\"f1\"] + weights[\"accuracy\"]*sc[\"accuracy\"] +\n",
    "       weights[\"auc\"]*sc[\"auc\"] - weights[\"logloss\"]*sc[\"logloss\"]\n",
    "    for m, sc in selection_scores.items()\n",
    "}\n",
    "\n",
    "best_model_name = max(final_scores, key=final_scores.get)\n",
    "best_model_instance = models[best_model_name][\"model\"]\n",
    "\n",
    "print(\"\\nFinal weighted scores:\")\n",
    "print(final_scores)\n",
    "print(f\"\\n Best model: {best_model_name}\")\n",
    "\n"
   ]
  },
  {
   "cell_type": "code",
   "execution_count": 36,
   "id": "b7b59491-dd72-4914-bda6-f0f0d38e565e",
   "metadata": {},
   "outputs": [
    {
     "data": {
      "text/plain": [
       "['trained_models/XGBoost_metadata.joblib']"
      ]
     },
     "execution_count": 36,
     "metadata": {},
     "output_type": "execute_result"
    }
   ],
   "source": [
    "os.makedirs(\"trained_models\", exist_ok=True)\n",
    "joblib.dump(best_model_instance, f\"trained_models/{best_model_name}_best_model.joblib\")\n",
    "joblib.dump(scaler, \"trained_models/scaler.joblib\")\n",
    "joblib.dump({\"selection_scores\": selection_scores, \"final_scores\": final_scores, \"weights\":weights},\n",
    "            f\"trained_models/{best_model_name}_metadata.joblib\")\n"
   ]
  },
  {
   "cell_type": "code",
   "execution_count": null,
   "id": "c6eaa2c8-90fe-4189-b883-cdb13dbb84ff",
   "metadata": {},
   "outputs": [],
   "source": []
  }
 ],
 "metadata": {
  "kernelspec": {
   "display_name": "Python 3 (ipykernel)",
   "language": "python",
   "name": "python3"
  },
  "language_info": {
   "codemirror_mode": {
    "name": "ipython",
    "version": 3
   },
   "file_extension": ".py",
   "mimetype": "text/x-python",
   "name": "python",
   "nbconvert_exporter": "python",
   "pygments_lexer": "ipython3",
   "version": "3.9.7"
  }
 },
 "nbformat": 4,
 "nbformat_minor": 5
}
